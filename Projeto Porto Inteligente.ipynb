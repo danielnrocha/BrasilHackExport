{
 "cells": [
  {
   "cell_type": "markdown",
   "metadata": {},
   "source": [
    "# Projeto Porto Inteligente\n",
    "#### Union Squad – Daniel Rocha, Mateus Pinheiro, Letícia Fiorito, Wallys Souza, Everton Arruda\n",
    "Este projeto visa ajudar na virtualização da cadeia logística integrada dos portos brasileiros"
   ]
  },
  {
   "cell_type": "markdown",
   "metadata": {},
   "source": [
    "### Importando pacotes e fazendos ajustes:"
   ]
  },
  {
   "cell_type": "code",
   "execution_count": 1,
   "metadata": {},
   "outputs": [],
   "source": [
    "import pandas as pd\n",
    "import numpy as np\n",
    "import seaborn as sns\n",
    "import palettable\n",
    "import matplotlib.pyplot as plt\n",
    "%matplotlib inline\n",
    "from jupyterthemes import jtplot\n",
    "jtplot.style(theme='monokai', context='notebook', ticks=True, grid=False)"
   ]
  },
  {
   "cell_type": "code",
   "execution_count": 2,
   "metadata": {},
   "outputs": [],
   "source": [
    "pd.set_option(\"display.max_columns\", None)\n",
    "pd.set_option(\"display.max_rows\", 10)\n",
    "\n",
    "import matplotlib.style\n",
    "import matplotlib as mpl\n",
    "for m,n in zip(['grid.color','axes.titlecolor','axes.labelcolor','xtick.color','ytick.color','axes.titlesize',\n",
    "    'figure.figsize','legend.framealpha'],['white','white','white','white','white','20.0','13.0, 8.0','0.8']):\n",
    "    mpl.rcParams[m] = n"
   ]
  },
  {
   "cell_type": "markdown",
   "metadata": {},
   "source": [
    "### Importando os dados de estadia:"
   ]
  },
  {
   "cell_type": "code",
   "execution_count": 50,
   "metadata": {},
   "outputs": [
    {
     "data": {
      "text/html": [
       "<div>\n",
       "<style scoped>\n",
       "    .dataframe tbody tr th:only-of-type {\n",
       "        vertical-align: middle;\n",
       "    }\n",
       "\n",
       "    .dataframe tbody tr th {\n",
       "        vertical-align: top;\n",
       "    }\n",
       "\n",
       "    .dataframe thead th {\n",
       "        text-align: right;\n",
       "    }\n",
       "</style>\n",
       "<table border=\"1\" class=\"dataframe\">\n",
       "  <thead>\n",
       "    <tr style=\"text-align: right;\">\n",
       "      <th></th>\n",
       "      <th>Número do DUV</th>\n",
       "      <th>Porto</th>\n",
       "      <th>Data Saída do Porto</th>\n",
       "    </tr>\n",
       "  </thead>\n",
       "  <tbody>\n",
       "    <tr>\n",
       "      <th>0</th>\n",
       "      <td>00007a8e030f4e27d30757b47e3beb47</td>\n",
       "      <td>SGSIN - SINGAPURA (SINGAPORE)</td>\n",
       "      <td>29/12/2018 00:00</td>\n",
       "    </tr>\n",
       "    <tr>\n",
       "      <th>1</th>\n",
       "      <td>00007a8e030f4e27d30757b47e3beb47</td>\n",
       "      <td>NLALK - NLALK - Item de domínio recebido do Si...</td>\n",
       "      <td>14/11/2018 00:00</td>\n",
       "    </tr>\n",
       "  </tbody>\n",
       "</table>\n",
       "</div>"
      ],
      "text/plain": [
       "                      Número do DUV  \\\n",
       "0  00007a8e030f4e27d30757b47e3beb47   \n",
       "1  00007a8e030f4e27d30757b47e3beb47   \n",
       "\n",
       "                                               Porto Data Saída do Porto  \n",
       "0                      SGSIN - SINGAPURA (SINGAPORE)    29/12/2018 00:00  \n",
       "1  NLALK - NLALK - Item de domínio recebido do Si...    14/11/2018 00:00  "
      ]
     },
     "execution_count": 50,
     "metadata": {},
     "output_type": "execute_result"
    }
   ],
   "source": [
    "last_scales = pd.read_csv('/Users/pedrocerbino/Downloads/ESTADIA/Últimas Escalas.csv',sep=';')\n",
    "last_scales.head(2)"
   ]
  },
  {
   "cell_type": "code",
   "execution_count": 57,
   "metadata": {},
   "outputs": [
    {
     "data": {
      "text/html": [
       "<div>\n",
       "<style scoped>\n",
       "    .dataframe tbody tr th:only-of-type {\n",
       "        vertical-align: middle;\n",
       "    }\n",
       "\n",
       "    .dataframe tbody tr th {\n",
       "        vertical-align: top;\n",
       "    }\n",
       "\n",
       "    .dataframe thead th {\n",
       "        text-align: right;\n",
       "    }\n",
       "</style>\n",
       "<table border=\"1\" class=\"dataframe\">\n",
       "  <thead>\n",
       "    <tr style=\"text-align: right;\">\n",
       "      <th></th>\n",
       "      <th>N�mero do DUV</th>\n",
       "      <th>Porto</th>\n",
       "      <th>Data Chegada no Porto</th>\n",
       "    </tr>\n",
       "  </thead>\n",
       "  <tbody>\n",
       "    <tr>\n",
       "      <th>0</th>\n",
       "      <td>00007a8e030f4e27d30757b47e3beb47</td>\n",
       "      <td>BRESP - BACIA PETROLIFERA DO ESPIRITO SANTO</td>\n",
       "      <td>05/02/2019 00:00</td>\n",
       "    </tr>\n",
       "    <tr>\n",
       "      <th>1</th>\n",
       "      <td>0000ee254a26d88709dbd7aaf80625da</td>\n",
       "      <td>BRRIO - RIO DE JANEIRO</td>\n",
       "      <td>25/03/2017 00:00</td>\n",
       "    </tr>\n",
       "  </tbody>\n",
       "</table>\n",
       "</div>"
      ],
      "text/plain": [
       "                      N�mero do DUV  \\\n",
       "0  00007a8e030f4e27d30757b47e3beb47   \n",
       "1  0000ee254a26d88709dbd7aaf80625da   \n",
       "\n",
       "                                         Porto Data Chegada no Porto  \n",
       "0  BRESP - BACIA PETROLIFERA DO ESPIRITO SANTO      05/02/2019 00:00  \n",
       "1                       BRRIO - RIO DE JANEIRO      25/03/2017 00:00  "
      ]
     },
     "execution_count": 57,
     "metadata": {},
     "output_type": "execute_result"
    }
   ],
   "source": [
    "next_scales = pd.read_csv('/Users/pedrocerbino/Downloads/ESTADIA/Próximas Escalas.csv',sep=';',\n",
    "                          engine='python')\n",
    "next_scales.head(2)"
   ]
  },
  {
   "cell_type": "code",
   "execution_count": 58,
   "metadata": {},
   "outputs": [
    {
     "data": {
      "text/html": [
       "<div>\n",
       "<style scoped>\n",
       "    .dataframe tbody tr th:only-of-type {\n",
       "        vertical-align: middle;\n",
       "    }\n",
       "\n",
       "    .dataframe tbody tr th {\n",
       "        vertical-align: top;\n",
       "    }\n",
       "\n",
       "    .dataframe thead th {\n",
       "        text-align: right;\n",
       "    }\n",
       "</style>\n",
       "<table border=\"1\" class=\"dataframe\">\n",
       "  <thead>\n",
       "    <tr style=\"text-align: right;\">\n",
       "      <th></th>\n",
       "      <th>Número do DUV</th>\n",
       "      <th>Estadia Off-Shore</th>\n",
       "      <th>Porto de estadia atual</th>\n",
       "      <th>Atracação Prevista</th>\n",
       "      <th>Atracação Efetiva</th>\n",
       "      <th>Desatracação Prevista</th>\n",
       "      <th>Desatracação Efetiva</th>\n",
       "      <th>Local(is) Atracação (área do porto &gt; berço &gt; cabeço)</th>\n",
       "      <th>Local(is) e Data(s) Reatracação (área do porto &gt; berço &gt; ca</th>\n",
       "      <th>Bandeira da Embarcação</th>\n",
       "      <th>Área de Navegação</th>\n",
       "      <th>Finalidade da Embarcação</th>\n",
       "      <th>Tipo de Embarcação</th>\n",
       "      <th>Motivo de Atracação</th>\n",
       "      <th>Tipo de Viagem Chegada</th>\n",
       "      <th>Tipo de Viagem Saída</th>\n",
       "      <th>Especialidade da Carga Predominante</th>\n",
       "    </tr>\n",
       "  </thead>\n",
       "  <tbody>\n",
       "    <tr>\n",
       "      <th>0</th>\n",
       "      <td>8e0879c460c1314a25bea44f73974e3e</td>\n",
       "      <td>Não</td>\n",
       "      <td>BRRIO - RIO DE JANEIRO</td>\n",
       "      <td>31/12/2016 17:30</td>\n",
       "      <td>01/01/2017 07:20</td>\n",
       "      <td>01/01/2017 15:00</td>\n",
       "      <td>01/01/2017 16:00</td>\n",
       "      <td>TERMINAL-2 MULTI-RIO &gt; 2C21 &gt; 255 X 266</td>\n",
       "      <td>NaN</td>\n",
       "      <td>Libéria</td>\n",
       "      <td>IMPORT/EXPORT/LONGO CURSO</td>\n",
       "      <td>Transporte de Contentores</td>\n",
       "      <td>Porta Contentor</td>\n",
       "      <td>Carga e Descarga</td>\n",
       "      <td>EXPORTAÇÃO/LONGO CURSO</td>\n",
       "      <td>IMPORTAÇÃO/LONGO CURSO</td>\n",
       "      <td>Conteiner</td>\n",
       "    </tr>\n",
       "    <tr>\n",
       "      <th>1</th>\n",
       "      <td>77a23e1146e03847763ea5aaa70ecbc3</td>\n",
       "      <td>Não</td>\n",
       "      <td>BRSSZ - SANTOS</td>\n",
       "      <td>01/01/2017 02:00</td>\n",
       "      <td>01/01/2017 08:30</td>\n",
       "      <td>02/01/2017 01:00</td>\n",
       "      <td>02/01/2017 03:15</td>\n",
       "      <td>Margem Esquerda (Guarujá) &gt; EPORT II &gt; 15/30</td>\n",
       "      <td>NaN</td>\n",
       "      <td>Libéria</td>\n",
       "      <td>IMPORT/EXPORT/LONGO CURSO</td>\n",
       "      <td>Transporte de Contentores</td>\n",
       "      <td>Porta Contentor</td>\n",
       "      <td>Carga e Descarga</td>\n",
       "      <td>EXPORTAÇÃO/LONGO CURSO</td>\n",
       "      <td>IMPORTAÇÃO/LONGO CURSO</td>\n",
       "      <td>Conteiner</td>\n",
       "    </tr>\n",
       "  </tbody>\n",
       "</table>\n",
       "</div>"
      ],
      "text/plain": [
       "                      Número do DUV Estadia Off-Shore  Porto de estadia atual  \\\n",
       "0  8e0879c460c1314a25bea44f73974e3e               Não  BRRIO - RIO DE JANEIRO   \n",
       "1  77a23e1146e03847763ea5aaa70ecbc3               Não          BRSSZ - SANTOS   \n",
       "\n",
       "  Atracação Prevista Atracação Efetiva Desatracação Prevista  \\\n",
       "0   31/12/2016 17:30  01/01/2017 07:20      01/01/2017 15:00   \n",
       "1   01/01/2017 02:00  01/01/2017 08:30      02/01/2017 01:00   \n",
       "\n",
       "  Desatracação Efetiva Local(is) Atracação (área do porto > berço > cabeço)  \\\n",
       "0     01/01/2017 16:00            TERMINAL-2 MULTI-RIO > 2C21 > 255 X 266     \n",
       "1     02/01/2017 03:15       Margem Esquerda (Guarujá) > EPORT II > 15/30     \n",
       "\n",
       "  Local(is) e Data(s) Reatracação (área do porto > berço > ca  \\\n",
       "0                                                NaN            \n",
       "1                                                NaN            \n",
       "\n",
       "  Bandeira da Embarcação          Área de Navegação  \\\n",
       "0                Libéria  IMPORT/EXPORT/LONGO CURSO   \n",
       "1                Libéria  IMPORT/EXPORT/LONGO CURSO   \n",
       "\n",
       "    Finalidade da Embarcação Tipo de Embarcação Motivo de Atracação  \\\n",
       "0  Transporte de Contentores    Porta Contentor    Carga e Descarga   \n",
       "1  Transporte de Contentores    Porta Contentor    Carga e Descarga   \n",
       "\n",
       "   Tipo de Viagem Chegada    Tipo de Viagem Saída  \\\n",
       "0  EXPORTAÇÃO/LONGO CURSO  IMPORTAÇÃO/LONGO CURSO   \n",
       "1  EXPORTAÇÃO/LONGO CURSO  IMPORTAÇÃO/LONGO CURSO   \n",
       "\n",
       "  Especialidade da Carga Predominante  \n",
       "0                           Conteiner  \n",
       "1                           Conteiner  "
      ]
     },
     "execution_count": 58,
     "metadata": {},
     "output_type": "execute_result"
    }
   ],
   "source": [
    "stays = pd.read_csv('/Users/pedrocerbino/Downloads/ESTADIA/Estadia.csv',sep=';')\n",
    "stays.head(2)"
   ]
  },
  {
   "cell_type": "markdown",
   "metadata": {},
   "source": [
    "### Importando os dados de cargas:"
   ]
  },
  {
   "cell_type": "code",
   "execution_count": 65,
   "metadata": {
    "scrolled": true
   },
   "outputs": [
    {
     "ename": "KeyboardInterrupt",
     "evalue": "",
     "output_type": "error",
     "traceback": [
      "\u001b[0;31m---------------------------------------------------------------------------\u001b[0m",
      "\u001b[0;31mKeyboardInterrupt\u001b[0m                         Traceback (most recent call last)",
      "\u001b[0;32m<ipython-input-65-b9332a103ca9>\u001b[0m in \u001b[0;36m<module>\u001b[0;34m\u001b[0m\n\u001b[1;32m      1\u001b[0m loose_load = pd.read_csv('/Users/pedrocerbino/Downloads/CARGAS/CARGAS_SOLTAS.csv',#sep=';',\n\u001b[0;32m----> 2\u001b[0;31m                         engine='python')\n\u001b[0m\u001b[1;32m      3\u001b[0m \u001b[0mloose_load\u001b[0m\u001b[0;34m.\u001b[0m\u001b[0mhead\u001b[0m\u001b[0;34m(\u001b[0m\u001b[0;36m2\u001b[0m\u001b[0;34m)\u001b[0m\u001b[0;34m\u001b[0m\u001b[0;34m\u001b[0m\u001b[0m\n",
      "\u001b[0;32m~/opt/anaconda3/lib/python3.7/site-packages/pandas/io/parsers.py\u001b[0m in \u001b[0;36mread_csv\u001b[0;34m(filepath_or_buffer, sep, delimiter, header, names, index_col, usecols, squeeze, prefix, mangle_dupe_cols, dtype, engine, converters, true_values, false_values, skipinitialspace, skiprows, skipfooter, nrows, na_values, keep_default_na, na_filter, verbose, skip_blank_lines, parse_dates, infer_datetime_format, keep_date_col, date_parser, dayfirst, cache_dates, iterator, chunksize, compression, thousands, decimal, lineterminator, quotechar, quoting, doublequote, escapechar, comment, encoding, dialect, error_bad_lines, warn_bad_lines, delim_whitespace, low_memory, memory_map, float_precision)\u001b[0m\n\u001b[1;32m    684\u001b[0m     )\n\u001b[1;32m    685\u001b[0m \u001b[0;34m\u001b[0m\u001b[0m\n\u001b[0;32m--> 686\u001b[0;31m     \u001b[0;32mreturn\u001b[0m \u001b[0m_read\u001b[0m\u001b[0;34m(\u001b[0m\u001b[0mfilepath_or_buffer\u001b[0m\u001b[0;34m,\u001b[0m \u001b[0mkwds\u001b[0m\u001b[0;34m)\u001b[0m\u001b[0;34m\u001b[0m\u001b[0;34m\u001b[0m\u001b[0m\n\u001b[0m\u001b[1;32m    687\u001b[0m \u001b[0;34m\u001b[0m\u001b[0m\n\u001b[1;32m    688\u001b[0m \u001b[0;34m\u001b[0m\u001b[0m\n",
      "\u001b[0;32m~/opt/anaconda3/lib/python3.7/site-packages/pandas/io/parsers.py\u001b[0m in \u001b[0;36m_read\u001b[0;34m(filepath_or_buffer, kwds)\u001b[0m\n\u001b[1;32m    456\u001b[0m \u001b[0;34m\u001b[0m\u001b[0m\n\u001b[1;32m    457\u001b[0m     \u001b[0;32mtry\u001b[0m\u001b[0;34m:\u001b[0m\u001b[0;34m\u001b[0m\u001b[0;34m\u001b[0m\u001b[0m\n\u001b[0;32m--> 458\u001b[0;31m         \u001b[0mdata\u001b[0m \u001b[0;34m=\u001b[0m \u001b[0mparser\u001b[0m\u001b[0;34m.\u001b[0m\u001b[0mread\u001b[0m\u001b[0;34m(\u001b[0m\u001b[0mnrows\u001b[0m\u001b[0;34m)\u001b[0m\u001b[0;34m\u001b[0m\u001b[0;34m\u001b[0m\u001b[0m\n\u001b[0m\u001b[1;32m    459\u001b[0m     \u001b[0;32mfinally\u001b[0m\u001b[0;34m:\u001b[0m\u001b[0;34m\u001b[0m\u001b[0;34m\u001b[0m\u001b[0m\n\u001b[1;32m    460\u001b[0m         \u001b[0mparser\u001b[0m\u001b[0;34m.\u001b[0m\u001b[0mclose\u001b[0m\u001b[0;34m(\u001b[0m\u001b[0;34m)\u001b[0m\u001b[0;34m\u001b[0m\u001b[0;34m\u001b[0m\u001b[0m\n",
      "\u001b[0;32m~/opt/anaconda3/lib/python3.7/site-packages/pandas/io/parsers.py\u001b[0m in \u001b[0;36mread\u001b[0;34m(self, nrows)\u001b[0m\n\u001b[1;32m   1184\u001b[0m     \u001b[0;32mdef\u001b[0m \u001b[0mread\u001b[0m\u001b[0;34m(\u001b[0m\u001b[0mself\u001b[0m\u001b[0;34m,\u001b[0m \u001b[0mnrows\u001b[0m\u001b[0;34m=\u001b[0m\u001b[0;32mNone\u001b[0m\u001b[0;34m)\u001b[0m\u001b[0;34m:\u001b[0m\u001b[0;34m\u001b[0m\u001b[0;34m\u001b[0m\u001b[0m\n\u001b[1;32m   1185\u001b[0m         \u001b[0mnrows\u001b[0m \u001b[0;34m=\u001b[0m \u001b[0m_validate_integer\u001b[0m\u001b[0;34m(\u001b[0m\u001b[0;34m\"nrows\"\u001b[0m\u001b[0;34m,\u001b[0m \u001b[0mnrows\u001b[0m\u001b[0;34m)\u001b[0m\u001b[0;34m\u001b[0m\u001b[0;34m\u001b[0m\u001b[0m\n\u001b[0;32m-> 1186\u001b[0;31m         \u001b[0mret\u001b[0m \u001b[0;34m=\u001b[0m \u001b[0mself\u001b[0m\u001b[0;34m.\u001b[0m\u001b[0m_engine\u001b[0m\u001b[0;34m.\u001b[0m\u001b[0mread\u001b[0m\u001b[0;34m(\u001b[0m\u001b[0mnrows\u001b[0m\u001b[0;34m)\u001b[0m\u001b[0;34m\u001b[0m\u001b[0;34m\u001b[0m\u001b[0m\n\u001b[0m\u001b[1;32m   1187\u001b[0m \u001b[0;34m\u001b[0m\u001b[0m\n\u001b[1;32m   1188\u001b[0m         \u001b[0;31m# May alter columns / col_dict\u001b[0m\u001b[0;34m\u001b[0m\u001b[0;34m\u001b[0m\u001b[0;34m\u001b[0m\u001b[0m\n",
      "\u001b[0;32m~/opt/anaconda3/lib/python3.7/site-packages/pandas/io/parsers.py\u001b[0m in \u001b[0;36mread\u001b[0;34m(self, rows)\u001b[0m\n\u001b[1;32m   2544\u001b[0m     \u001b[0;32mdef\u001b[0m \u001b[0mread\u001b[0m\u001b[0;34m(\u001b[0m\u001b[0mself\u001b[0m\u001b[0;34m,\u001b[0m \u001b[0mrows\u001b[0m\u001b[0;34m=\u001b[0m\u001b[0;32mNone\u001b[0m\u001b[0;34m)\u001b[0m\u001b[0;34m:\u001b[0m\u001b[0;34m\u001b[0m\u001b[0;34m\u001b[0m\u001b[0m\n\u001b[1;32m   2545\u001b[0m         \u001b[0;32mtry\u001b[0m\u001b[0;34m:\u001b[0m\u001b[0;34m\u001b[0m\u001b[0;34m\u001b[0m\u001b[0m\n\u001b[0;32m-> 2546\u001b[0;31m             \u001b[0mcontent\u001b[0m \u001b[0;34m=\u001b[0m \u001b[0mself\u001b[0m\u001b[0;34m.\u001b[0m\u001b[0m_get_lines\u001b[0m\u001b[0;34m(\u001b[0m\u001b[0mrows\u001b[0m\u001b[0;34m)\u001b[0m\u001b[0;34m\u001b[0m\u001b[0;34m\u001b[0m\u001b[0m\n\u001b[0m\u001b[1;32m   2547\u001b[0m         \u001b[0;32mexcept\u001b[0m \u001b[0mStopIteration\u001b[0m\u001b[0;34m:\u001b[0m\u001b[0;34m\u001b[0m\u001b[0;34m\u001b[0m\u001b[0m\n\u001b[1;32m   2548\u001b[0m             \u001b[0;32mif\u001b[0m \u001b[0mself\u001b[0m\u001b[0;34m.\u001b[0m\u001b[0m_first_chunk\u001b[0m\u001b[0;34m:\u001b[0m\u001b[0;34m\u001b[0m\u001b[0;34m\u001b[0m\u001b[0m\n",
      "\u001b[0;32m~/opt/anaconda3/lib/python3.7/site-packages/pandas/io/parsers.py\u001b[0m in \u001b[0;36m_get_lines\u001b[0;34m(self, rows)\u001b[0m\n\u001b[1;32m   3291\u001b[0m \u001b[0;34m\u001b[0m\u001b[0m\n\u001b[1;32m   3292\u001b[0m                         \u001b[0;32mwhile\u001b[0m \u001b[0;32mTrue\u001b[0m\u001b[0;34m:\u001b[0m\u001b[0;34m\u001b[0m\u001b[0;34m\u001b[0m\u001b[0m\n\u001b[0;32m-> 3293\u001b[0;31m                             \u001b[0mnew_row\u001b[0m \u001b[0;34m=\u001b[0m \u001b[0mself\u001b[0m\u001b[0;34m.\u001b[0m\u001b[0m_next_iter_line\u001b[0m\u001b[0;34m(\u001b[0m\u001b[0mrow_num\u001b[0m\u001b[0;34m=\u001b[0m\u001b[0mself\u001b[0m\u001b[0;34m.\u001b[0m\u001b[0mpos\u001b[0m \u001b[0;34m+\u001b[0m \u001b[0mrows\u001b[0m \u001b[0;34m+\u001b[0m \u001b[0;36m1\u001b[0m\u001b[0;34m)\u001b[0m\u001b[0;34m\u001b[0m\u001b[0;34m\u001b[0m\u001b[0m\n\u001b[0m\u001b[1;32m   3294\u001b[0m                             \u001b[0mrows\u001b[0m \u001b[0;34m+=\u001b[0m \u001b[0;36m1\u001b[0m\u001b[0;34m\u001b[0m\u001b[0;34m\u001b[0m\u001b[0m\n\u001b[1;32m   3295\u001b[0m \u001b[0;34m\u001b[0m\u001b[0m\n",
      "\u001b[0;32m~/opt/anaconda3/lib/python3.7/site-packages/pandas/io/parsers.py\u001b[0m in \u001b[0;36m_next_iter_line\u001b[0;34m(self, row_num)\u001b[0m\n\u001b[1;32m   3002\u001b[0m         \"\"\"\n\u001b[1;32m   3003\u001b[0m         \u001b[0;32mtry\u001b[0m\u001b[0;34m:\u001b[0m\u001b[0;34m\u001b[0m\u001b[0;34m\u001b[0m\u001b[0m\n\u001b[0;32m-> 3004\u001b[0;31m             \u001b[0;32mreturn\u001b[0m \u001b[0mnext\u001b[0m\u001b[0;34m(\u001b[0m\u001b[0mself\u001b[0m\u001b[0;34m.\u001b[0m\u001b[0mdata\u001b[0m\u001b[0;34m)\u001b[0m\u001b[0;34m\u001b[0m\u001b[0;34m\u001b[0m\u001b[0m\n\u001b[0m\u001b[1;32m   3005\u001b[0m         \u001b[0;32mexcept\u001b[0m \u001b[0mcsv\u001b[0m\u001b[0;34m.\u001b[0m\u001b[0mError\u001b[0m \u001b[0;32mas\u001b[0m \u001b[0me\u001b[0m\u001b[0;34m:\u001b[0m\u001b[0;34m\u001b[0m\u001b[0;34m\u001b[0m\u001b[0m\n\u001b[1;32m   3006\u001b[0m             \u001b[0;32mif\u001b[0m \u001b[0mself\u001b[0m\u001b[0;34m.\u001b[0m\u001b[0mwarn_bad_lines\u001b[0m \u001b[0;32mor\u001b[0m \u001b[0mself\u001b[0m\u001b[0;34m.\u001b[0m\u001b[0merror_bad_lines\u001b[0m\u001b[0;34m:\u001b[0m\u001b[0;34m\u001b[0m\u001b[0;34m\u001b[0m\u001b[0m\n",
      "\u001b[0;32m~/opt/anaconda3/lib/python3.7/codecs.py\u001b[0m in \u001b[0;36mdecode\u001b[0;34m(self, input, final)\u001b[0m\n\u001b[1;32m    317\u001b[0m         \u001b[0;32mraise\u001b[0m \u001b[0mNotImplementedError\u001b[0m\u001b[0;34m\u001b[0m\u001b[0;34m\u001b[0m\u001b[0m\n\u001b[1;32m    318\u001b[0m \u001b[0;34m\u001b[0m\u001b[0m\n\u001b[0;32m--> 319\u001b[0;31m     \u001b[0;32mdef\u001b[0m \u001b[0mdecode\u001b[0m\u001b[0;34m(\u001b[0m\u001b[0mself\u001b[0m\u001b[0;34m,\u001b[0m \u001b[0minput\u001b[0m\u001b[0;34m,\u001b[0m \u001b[0mfinal\u001b[0m\u001b[0;34m=\u001b[0m\u001b[0;32mFalse\u001b[0m\u001b[0;34m)\u001b[0m\u001b[0;34m:\u001b[0m\u001b[0;34m\u001b[0m\u001b[0;34m\u001b[0m\u001b[0m\n\u001b[0m\u001b[1;32m    320\u001b[0m         \u001b[0;31m# decode input (taking the buffer into account)\u001b[0m\u001b[0;34m\u001b[0m\u001b[0;34m\u001b[0m\u001b[0;34m\u001b[0m\u001b[0m\n\u001b[1;32m    321\u001b[0m         \u001b[0mdata\u001b[0m \u001b[0;34m=\u001b[0m \u001b[0mself\u001b[0m\u001b[0;34m.\u001b[0m\u001b[0mbuffer\u001b[0m \u001b[0;34m+\u001b[0m \u001b[0minput\u001b[0m\u001b[0;34m\u001b[0m\u001b[0;34m\u001b[0m\u001b[0m\n",
      "\u001b[0;31mKeyboardInterrupt\u001b[0m: "
     ]
    }
   ],
   "source": [
    "loose_load = pd.read_csv('/Users/pedrocerbino/Downloads/CARGAS/CARGAS_SOLTAS.csv',#sep=';',\n",
    "                        engine='python')\n",
    "loose_load.head(2)"
   ]
  },
  {
   "cell_type": "code",
   "execution_count": 68,
   "metadata": {},
   "outputs": [
    {
     "data": {
      "text/html": [
       "<div>\n",
       "<style scoped>\n",
       "    .dataframe tbody tr th:only-of-type {\n",
       "        vertical-align: middle;\n",
       "    }\n",
       "\n",
       "    .dataframe tbody tr th {\n",
       "        vertical-align: top;\n",
       "    }\n",
       "\n",
       "    .dataframe thead th {\n",
       "        text-align: right;\n",
       "    }\n",
       "</style>\n",
       "<table border=\"1\" class=\"dataframe\">\n",
       "  <thead>\n",
       "    <tr style=\"text-align: right;\">\n",
       "      <th></th>\n",
       "      <th>Número do Conhecimento</th>\n",
       "      <th>Data de Emissão do Conhecimento</th>\n",
       "      <th>Número do Item</th>\n",
       "      <th>Tipo</th>\n",
       "      <th>Data de Registro do Item de Carga</th>\n",
       "    </tr>\n",
       "  </thead>\n",
       "  <tbody>\n",
       "    <tr>\n",
       "      <th>0</th>\n",
       "      <td>65408df1cb57e145952b33f1793fc3c6</td>\n",
       "      <td>2019-07-07</td>\n",
       "      <td>e5e794691ac311554c59da9bc13fe214</td>\n",
       "      <td>CARGA_SOLTA</td>\n",
       "      <td>2019-07-22 15:13:30.577361-03</td>\n",
       "    </tr>\n",
       "    <tr>\n",
       "      <th>1</th>\n",
       "      <td>185b6d9ce8e0c6db53b830e9ed48185f</td>\n",
       "      <td>2019-08-23</td>\n",
       "      <td>5cf9e52f527e9e68e04bb8df61058f00</td>\n",
       "      <td>CARGA_SOLTA</td>\n",
       "      <td>2019-09-09 14:01:27.410294-03</td>\n",
       "    </tr>\n",
       "  </tbody>\n",
       "</table>\n",
       "</div>"
      ],
      "text/plain": [
       "             Número do Conhecimento Data de Emissão do Conhecimento  \\\n",
       "0  65408df1cb57e145952b33f1793fc3c6                      2019-07-07   \n",
       "1  185b6d9ce8e0c6db53b830e9ed48185f                      2019-08-23   \n",
       "\n",
       "                     Número do Item         Tipo  \\\n",
       "0  e5e794691ac311554c59da9bc13fe214  CARGA_SOLTA   \n",
       "1  5cf9e52f527e9e68e04bb8df61058f00  CARGA_SOLTA   \n",
       "\n",
       "  Data de Registro do Item de Carga  \n",
       "0     2019-07-22 15:13:30.577361-03  \n",
       "1     2019-09-09 14:01:27.410294-03  "
      ]
     },
     "execution_count": 68,
     "metadata": {},
     "output_type": "execute_result"
    }
   ],
   "source": [
    "loose_load_date = pd.read_csv('/Users/pedrocerbino/Downloads/CARGAS/Data_Carga_Solta.csv')#,sep=';')\n",
    "loose_load_date.head(2)"
   ]
  },
  {
   "cell_type": "code",
   "execution_count": 70,
   "metadata": {},
   "outputs": [
    {
     "data": {
      "text/html": [
       "<div>\n",
       "<style scoped>\n",
       "    .dataframe tbody tr th:only-of-type {\n",
       "        vertical-align: middle;\n",
       "    }\n",
       "\n",
       "    .dataframe tbody tr th {\n",
       "        vertical-align: top;\n",
       "    }\n",
       "\n",
       "    .dataframe thead th {\n",
       "        text-align: right;\n",
       "    }\n",
       "</style>\n",
       "<table border=\"1\" class=\"dataframe\">\n",
       "  <thead>\n",
       "    <tr style=\"text-align: right;\">\n",
       "      <th></th>\n",
       "      <th>Número do Conhecimento</th>\n",
       "      <th>Data de Emissão do Conhecimento</th>\n",
       "      <th>Número do Item</th>\n",
       "      <th>Tipo</th>\n",
       "      <th>Data de Registro do Item de Carga</th>\n",
       "    </tr>\n",
       "  </thead>\n",
       "  <tbody>\n",
       "    <tr>\n",
       "      <th>0</th>\n",
       "      <td>d3e03f2b45485748c41005e25b4cf6e2</td>\n",
       "      <td>2018-10-12</td>\n",
       "      <td>dc363e2f13e0752681703d330070fc00</td>\n",
       "      <td>GRANEL</td>\n",
       "      <td>2018-10-22 16:32:32.556772-03</td>\n",
       "    </tr>\n",
       "    <tr>\n",
       "      <th>1</th>\n",
       "      <td>af12e2dc9241b6031642622c9cf5945b</td>\n",
       "      <td>2018-11-30</td>\n",
       "      <td>f673179b9be76365cd328af5f6fa440b</td>\n",
       "      <td>GRANEL</td>\n",
       "      <td>2018-11-23 23:14:47.202546-02</td>\n",
       "    </tr>\n",
       "  </tbody>\n",
       "</table>\n",
       "</div>"
      ],
      "text/plain": [
       "             Número do Conhecimento Data de Emissão do Conhecimento  \\\n",
       "0  d3e03f2b45485748c41005e25b4cf6e2                      2018-10-12   \n",
       "1  af12e2dc9241b6031642622c9cf5945b                      2018-11-30   \n",
       "\n",
       "                     Número do Item    Tipo Data de Registro do Item de Carga  \n",
       "0  dc363e2f13e0752681703d330070fc00  GRANEL     2018-10-22 16:32:32.556772-03  \n",
       "1  f673179b9be76365cd328af5f6fa440b  GRANEL     2018-11-23 23:14:47.202546-02  "
      ]
     },
     "execution_count": 70,
     "metadata": {},
     "output_type": "execute_result"
    }
   ],
   "source": [
    "granel_date = pd.read_csv('/Users/pedrocerbino/Downloads/CARGAS/Data_Granel.csv')\n",
    "granel_date.head(2)"
   ]
  },
  {
   "cell_type": "code",
   "execution_count": 74,
   "metadata": {},
   "outputs": [
    {
     "data": {
      "text/html": [
       "<div>\n",
       "<style scoped>\n",
       "    .dataframe tbody tr th:only-of-type {\n",
       "        vertical-align: middle;\n",
       "    }\n",
       "\n",
       "    .dataframe tbody tr th {\n",
       "        vertical-align: top;\n",
       "    }\n",
       "\n",
       "    .dataframe thead th {\n",
       "        text-align: right;\n",
       "    }\n",
       "</style>\n",
       "<table border=\"1\" class=\"dataframe\">\n",
       "  <thead>\n",
       "    <tr style=\"text-align: right;\">\n",
       "      <th></th>\n",
       "      <th>N�mero do DUV</th>\n",
       "      <th>N�mero do Conhecimento</th>\n",
       "      <th>Tipo de conhecimento</th>\n",
       "      <th>Tipo de tr�fego</th>\n",
       "      <th>Pa�s de origem da mercadoria</th>\n",
       "      <th>Porto de origem da mercadoria</th>\n",
       "      <th>Pa�s de destino da mercadoria</th>\n",
       "      <th>Porto de destino da mercadoria</th>\n",
       "      <th>Pa�s de proced�ncia da carga</th>\n",
       "      <th>Corrente de tr�fego</th>\n",
       "      <th>Categoria da carga</th>\n",
       "      <th>N�mero do Item</th>\n",
       "      <th>Tipo</th>\n",
       "      <th>Peso total bruto</th>\n",
       "      <th>NCM Mercadoria</th>\n",
       "      <th>Peso bruto da mercadoria</th>\n",
       "      <th>Cubagem em m3</th>\n",
       "    </tr>\n",
       "  </thead>\n",
       "  <tbody>\n",
       "    <tr>\n",
       "      <th>0</th>\n",
       "      <td>NaN</td>\n",
       "      <td>a6d05acd7045da1c1709dc375f5d4e76</td>\n",
       "      <td>Comum</td>\n",
       "      <td>Interior - ITR</td>\n",
       "      <td>NaN</td>\n",
       "      <td>BRMAO - MANAUS</td>\n",
       "      <td>NaN</td>\n",
       "      <td>BR095 - TAPAU�</td>\n",
       "      <td>NaN</td>\n",
       "      <td>NaN</td>\n",
       "      <td>Nacional</td>\n",
       "      <td>e9c5e3817b0c1f7c9bf8b58617e33c0e</td>\n",
       "      <td>GRANEL</td>\n",
       "      <td>1.539000e+05</td>\n",
       "      <td>27101921.0</td>\n",
       "      <td>1.539000e+05</td>\n",
       "      <td>NaN</td>\n",
       "    </tr>\n",
       "    <tr>\n",
       "      <th>1</th>\n",
       "      <td>NaN</td>\n",
       "      <td>929f55597cff49311d8e85b340f84b9f</td>\n",
       "      <td>Comum</td>\n",
       "      <td>Cabotagem - CAB</td>\n",
       "      <td>NaN</td>\n",
       "      <td>BRSAS - BACIA PETROLIFERA DE SANTOS</td>\n",
       "      <td>NaN</td>\n",
       "      <td>BRRIO - RIO DE JANEIRO</td>\n",
       "      <td>NaN</td>\n",
       "      <td>NaN</td>\n",
       "      <td>Nacional</td>\n",
       "      <td>25bce01387542c3a11392e81ccb8d062</td>\n",
       "      <td>GRANEL</td>\n",
       "      <td>3.482801e+07</td>\n",
       "      <td>2709.0</td>\n",
       "      <td>3.482801e+07</td>\n",
       "      <td>39541.332</td>\n",
       "    </tr>\n",
       "  </tbody>\n",
       "</table>\n",
       "</div>"
      ],
      "text/plain": [
       "  N�mero do DUV            N�mero do Conhecimento Tipo de conhecimento  \\\n",
       "0           NaN  a6d05acd7045da1c1709dc375f5d4e76                Comum   \n",
       "1           NaN  929f55597cff49311d8e85b340f84b9f                Comum   \n",
       "\n",
       "   Tipo de tr�fego Pa�s de origem da mercadoria  \\\n",
       "0   Interior - ITR                          NaN   \n",
       "1  Cabotagem - CAB                          NaN   \n",
       "\n",
       "         Porto de origem da mercadoria Pa�s de destino da mercadoria  \\\n",
       "0                       BRMAO - MANAUS                           NaN   \n",
       "1  BRSAS - BACIA PETROLIFERA DE SANTOS                           NaN   \n",
       "\n",
       "  Porto de destino da mercadoria Pa�s de proced�ncia da carga  \\\n",
       "0                 BR095 - TAPAU�                          NaN   \n",
       "1         BRRIO - RIO DE JANEIRO                          NaN   \n",
       "\n",
       "  Corrente de tr�fego Categoria da carga                    N�mero do Item  \\\n",
       "0                 NaN           Nacional  e9c5e3817b0c1f7c9bf8b58617e33c0e   \n",
       "1                 NaN           Nacional  25bce01387542c3a11392e81ccb8d062   \n",
       "\n",
       "     Tipo  Peso total bruto  NCM Mercadoria  Peso bruto da mercadoria  \\\n",
       "0  GRANEL      1.539000e+05      27101921.0              1.539000e+05   \n",
       "1  GRANEL      3.482801e+07          2709.0              3.482801e+07   \n",
       "\n",
       "   Cubagem em m3  \n",
       "0            NaN  \n",
       "1      39541.332  "
      ]
     },
     "execution_count": 74,
     "metadata": {},
     "output_type": "execute_result"
    }
   ],
   "source": [
    "granel = pd.read_csv('/Users/pedrocerbino/Downloads/CARGAS/GRANEL.csv',engine='python')\n",
    "granel.head(2)"
   ]
  },
  {
   "cell_type": "code",
   "execution_count": null,
   "metadata": {},
   "outputs": [],
   "source": [
    "vehicle = pd.read_csv('/Users/pedrocerbino/Downloads/CARGAS/VEICULO.csv',engine='python')\n",
    "vehicle.head(2)"
   ]
  },
  {
   "cell_type": "code",
   "execution_count": 80,
   "metadata": {},
   "outputs": [
    {
     "data": {
      "text/html": [
       "<div>\n",
       "<style scoped>\n",
       "    .dataframe tbody tr th:only-of-type {\n",
       "        vertical-align: middle;\n",
       "    }\n",
       "\n",
       "    .dataframe tbody tr th {\n",
       "        vertical-align: top;\n",
       "    }\n",
       "\n",
       "    .dataframe thead th {\n",
       "        text-align: right;\n",
       "    }\n",
       "</style>\n",
       "<table border=\"1\" class=\"dataframe\">\n",
       "  <thead>\n",
       "    <tr style=\"text-align: right;\">\n",
       "      <th></th>\n",
       "      <th>Número do Conhecimento</th>\n",
       "      <th>Data de Emissão do Conhecimento</th>\n",
       "      <th>Número do Item</th>\n",
       "      <th>Tipo</th>\n",
       "      <th>Data de Registro do Item de Carga</th>\n",
       "    </tr>\n",
       "  </thead>\n",
       "  <tbody>\n",
       "    <tr>\n",
       "      <th>0</th>\n",
       "      <td>1d49d8180cb6db0b7a8a51051d0c1a84</td>\n",
       "      <td>2019-09-30</td>\n",
       "      <td>a2d142735b0c6ec45ce85fcd511aaaeb</td>\n",
       "      <td>VEICULO</td>\n",
       "      <td>2019-10-31 18:52:41.714751-03</td>\n",
       "    </tr>\n",
       "    <tr>\n",
       "      <th>1</th>\n",
       "      <td>1d49d8180cb6db0b7a8a51051d0c1a84</td>\n",
       "      <td>2019-09-30</td>\n",
       "      <td>9248ab9f59df4788e039bc82b20f033d</td>\n",
       "      <td>VEICULO</td>\n",
       "      <td>2019-10-31 18:52:41.714751-03</td>\n",
       "    </tr>\n",
       "  </tbody>\n",
       "</table>\n",
       "</div>"
      ],
      "text/plain": [
       "             Número do Conhecimento Data de Emissão do Conhecimento  \\\n",
       "0  1d49d8180cb6db0b7a8a51051d0c1a84                      2019-09-30   \n",
       "1  1d49d8180cb6db0b7a8a51051d0c1a84                      2019-09-30   \n",
       "\n",
       "                     Número do Item     Tipo Data de Registro do Item de Carga  \n",
       "0  a2d142735b0c6ec45ce85fcd511aaaeb  VEICULO     2019-10-31 18:52:41.714751-03  \n",
       "1  9248ab9f59df4788e039bc82b20f033d  VEICULO     2019-10-31 18:52:41.714751-03  "
      ]
     },
     "execution_count": 80,
     "metadata": {},
     "output_type": "execute_result"
    }
   ],
   "source": [
    "vehicle_date = pd.read_csv('/Users/pedrocerbino/Downloads/CARGAS/Data_Veiculo.csv')\n",
    "vehicle_date.head(2)"
   ]
  },
  {
   "cell_type": "code",
   "execution_count": null,
   "metadata": {},
   "outputs": [],
   "source": []
  }
 ],
 "metadata": {
  "kernelspec": {
   "display_name": "Python 3",
   "language": "python",
   "name": "python3"
  },
  "language_info": {
   "codemirror_mode": {
    "name": "ipython",
    "version": 3
   },
   "file_extension": ".py",
   "mimetype": "text/x-python",
   "name": "python",
   "nbconvert_exporter": "python",
   "pygments_lexer": "ipython3",
   "version": "3.7.7"
  }
 },
 "nbformat": 4,
 "nbformat_minor": 4
}
